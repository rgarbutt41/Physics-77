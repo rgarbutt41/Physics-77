{
 "cells": [
  {
   "cell_type": "markdown",
   "metadata": {},
   "source": [
    "Robert Garbutt\n",
    "Section 101"
   ]
  },
  {
   "cell_type": "markdown",
   "metadata": {
    "collapsed": true
   },
   "source": [
    "# Homework 6: Monte Carlo"
   ]
  },
  {
   "cell_type": "markdown",
   "metadata": {},
   "source": [
    "##### ** Submit this notebook to bCourses to receive a credit for this assignment. **\n",
    "\n",
    "Please complete this homework assignment in code cells in the iPython notebook. Include comments in your code when necessary. Enter your name in the cell at the top of the notebook, and rename the notebook [email_name]_Homework06.ipynb, where [email_name] is the part of your UCB email address that precedes \"@berkeley.edu\" "
   ]
  },
  {
   "cell_type": "markdown",
   "metadata": {},
   "source": [
    "## Problem 1: MC integration [similar to Ayars 6.2, Newman 10.7 ]\n",
    "<i>10 pts</i>\n",
    "\n",
    "The “volume” of a 2-sphere $x^2 + y^2 \\le r^2$ (a.k.a. a “circle”) is $(1)\\pi r^2$. The volume of a 3-sphere $x^2 + y^2 + z^2 \\le r^2$ is $4/3 \\pi r^3$. The equation for an N-sphere is $x_1^2 +x_2^2 +x_3^2 + ... + x_N^2 \\le r^2$ (where $x_i$ are spatial coordinates in $N$ dimensions). We can guess, by induction from the 2-dimensional and 3-dimensional cases, that the “volume” of an N-sphere is $\\alpha_N\\pi r^N$. Write a function that uses Monte Carlo integration to estimate $\\alpha_N$ and its uncertainty for a fixed $N$. Graph $\\alpha_N$ with its uncertainty as a function of $N$ for $N=4..10$. "
   ]
  },
  {
   "cell_type": "code",
   "execution_count": 93,
   "metadata": {},
   "outputs": [
    {
     "name": "stdout",
     "output_type": "stream",
     "text": [
      "Determined a_N for N=10: 0.8168290045712173\n",
      "Error for N=10: 0.5078918050881636\n",
      "Actual value for N=10 1.5707963267948966\n"
     ]
    },
    {
     "data": {
      "image/png": "[encoded data removed]",
      "text/plain": [
       "<Figure size 432x288 with 1 Axes>"
      ]
     },
     "metadata": {
      "needs_background": "light"
     },
     "output_type": "display_data"
    }
   ],
   "source": [
    "import numpy as np\n",
    "import matplotlib.pyplot as plt\n",
    "\n",
    "\n",
    "def distance(array):\n",
    "    distance = np.sum(np.square(array))\n",
    "    return np.sqrt(distance)\n",
    "\n",
    "\n",
    "\n",
    "def Monte_Carlo_Volume_N_Sphere(N,Trials): #Pass N-sphere and number of dart throws\n",
    "    Within_counter = 0\n",
    "    Volume_of_N_Cube = 2**N\n",
    "    \n",
    "    Coordinates = np.random.rand(N,Trials)\n",
    "    \n",
    "    for i in range(0,Trials):\n",
    "        if distance(Coordinates[:,i]) <= 1: #Takes every coordinate and checks if within N-Ball\n",
    "            Within_counter += 1\n",
    "    approx_volume = Within_counter*Volume_of_N_Cube/Trials\n",
    "    \n",
    "    a_N = approx_volume/np.pi\n",
    "    \n",
    "    return a_N\n",
    "    \n",
    "\n",
    "def Uncertainty_of_Approximation(Events,N,Trials): #Events is number of sphere calculations, N and trials are the same as above\n",
    "                                                   #Function estimates a_N and uncertinaty\n",
    "        \n",
    "    Event_Array = [Monte_Carlo_Volume_N_Sphere(N,Trials) for i in range(0,Events)] #Array of Events\n",
    "    \n",
    "    Average = np.mean(Event_Array)\n",
    "    Uncertainty = np.std(Event_Array)\n",
    "    \n",
    "    return Average,Uncertainty\n",
    "\n",
    "N10average, N10uncertainty = Uncertainty_of_Approximation(1000,10,1000) #For Example N=4\n",
    "\n",
    "\n",
    "print('Determined a_N for N=10:', N10average)\n",
    "print('Error for N=10:', N10uncertainty)\n",
    "print('Actual value for N=10', np.pi/2)\n",
    "    \n",
    "\n",
    "plt.figure()\n",
    "x = np.linspace(4,10,7)\n",
    "y = []\n",
    "yer = []\n",
    "for i in x:\n",
    "    values = Uncertainty_of_Approximation(100,int(i),1000)\n",
    "    y.append(values[0])\n",
    "    yer.append(values[1])\n",
    "\n",
    "\n",
    "plt.scatter(x,y)\n",
    "plt.errorbar(x,y,yerr=yer)\n",
    "plt.show()\n"
   ]
  },
  {
   "cell_type": "markdown",
   "metadata": {},
   "source": [
    "## Problem 2: Simulating CUORE \n",
    "<i>(20 pts)</i>\n",
    "\n",
    "The <a href=\"https://cuore.lngs.infn.it/\">CUORE experiment</a> at Gran Sasso, Italy, searches for Neutrinoless Double-Beta Decays ($0\\nu\\beta\\beta$) of $^{130}$Te nucleus. Here we will produce some simulated \"toy\" spectra of what CUORE may see. $0\\nu\\beta\\beta$ events deposit energy in the detector with the mean value of approximately 2530 keV. For the purpose of this simulation, we will assume that the detector response is gaussian with the standard deviation ($\\sigma$) of 2 keV. In addition to signal events, there may be some \"background\" present; for the purpose of this simulation, we will assume that it is uniformly distributed in the region of interest. \n",
    "\n",
    "1. Generate an energy spectrum that CUORE might see, assuming N<sub>signal</sub>=100 signal events and N<sub>bkg</sub>=3000 background events uniformly distributed between energies of 2500 and 2600 keV. Can you see a signal peak in a histogram visually ? \n",
    "\n",
    "1. To measure the number of signal events, you may try to count the number of events in the window [2525..2535] keV ($\\pm 2.5\\sigma$) and subtract the <i>expected</i> number of background events in that window (how many?). How many signal events do you measure in your \"toy\" sample ? \n",
    "\n",
    "1. Compute significance of having observed a non-zero number of signal events, i.e. the probability that the number of signal events you measured is consistent with the zero. (<i>Hint:</i> you are testing a null hypothesis that the signal does not exist. In other words, compute the probability of the background fluctuating to the total number of events you observed in the signal window.) \n",
    "\n",
    "1. How does the significance depend on the size of the window ? "
   ]
  },
  {
   "cell_type": "code",
   "execution_count": 160,
   "metadata": {},
   "outputs": [
    {
     "data": {
      "image/png": "[encoded data removed]",
      "text/plain": [
       "<Figure size 432x288 with 1 Axes>"
      ]
     },
     "metadata": {
      "needs_background": "light"
     },
     "output_type": "display_data"
    },
    {
     "name": "stdout",
     "output_type": "stream",
     "text": [
      "There is a slight signal peak in the region we would expect, but certain generations of the graph yield peaks that look very similar\n",
      "Number of Expected Background: 465.0\n",
      "There are approximately 52.0 signal events within the interval (2522.5,2537.5)\n",
      "Chi-squared value for interval: 6.84123972169513\n",
      "P-value for interval: 0.008907699973821627\n",
      "In all cases, the calculated p-values have been around 10^-6 or smaller.  We can thus say there is a very definate deviation  from the uniform distribution\n"
     ]
    }
   ],
   "source": [
    "import numpy as np\n",
    "import matplotlib.pyplot as plt\n",
    "import scipy.stats\n",
    "\n",
    "\n",
    "x = np.random.uniform(low=2500,high=2600,size=3000)\n",
    "y = np.random.normal(loc=2530,scale=2,size=100)\n",
    "\n",
    "data = np.concatenate((x,y),axis=0)\n",
    "\n",
    "plt.figure()\n",
    "plt.hist(data,bins=80)\n",
    "plt.show()\n",
    "print('There is a slight signal peak in the region we would expect, but certain generations of the graph yield peaks that look very similar')\n",
    "\n",
    "Expected_background = 3100/100*(2537.5-2522.5)    #if uniform we would expect an equal distribution in small subregion, therefore density*length\n",
    "print('Number of Expected Background:',Expected_background)\n",
    "\n",
    "Within = 0\n",
    "for i in data:\n",
    "    if i > 2522.5 and i<2537.5:\n",
    "        Within += 1\n",
    "        \n",
    "Number_of_Signal_Events = Within - Expected_background\n",
    "\n",
    "print('There are approximately',Number_of_Signal_Events,'signal events within the interval (2522.5,2537.5)')\n",
    "\n",
    "chi2,pvalue = scipy.stats.chisquare([Within, 3100-Within],[Expected_background, 3100 - Expected_background])\n",
    "\n",
    "print('Chi-squared value for interval:',chi2)\n",
    "print('P-value for interval:',pvalue)\n",
    "print('In all cases, the calculated p-values have been around 10^-6 or smaller.  We can thus say there is a very definate deviation  from the uniform distribution')\n",
    "\n"
   ]
  },
  {
   "cell_type": "code",
   "execution_count": 177,
   "metadata": {},
   "outputs": [
    {
     "name": "stdout",
     "output_type": "stream",
     "text": [
      "There are approximately 65.0 signal events within the interval [2525, 2535]\n",
      "Chi-squared value for interval: 15.14336917562724\n",
      "P-value for interval: 9.964766062180137e-05\n",
      "\n",
      "There are approximately 67.0 signal events within the interval [2524, 2536]\n",
      "Chi-squared value for interval: 13.712732160312804\n",
      "P-value for interval: 0.00021300554015846515\n",
      "\n",
      "There are approximately 62.0 signal events within the interval [2523, 2537]\n",
      "Chi-squared value for interval: 10.299003322259136\n",
      "P-value for interval: 0.0013310207918229386\n",
      "\n",
      "There are approximately 59.0 signal events within the interval [2522, 2538]\n",
      "Chi-squared value for interval: 8.354934715821813\n",
      "P-value for interval: 0.003846412867634768\n",
      "\n",
      "There are approximately 42.0 signal events within the interval [2520, 2540]\n",
      "Chi-squared value for interval: 3.556451612903226\n",
      "P-value for interval: 0.05931440647035468\n",
      "\n",
      "There are approximately 46.0 signal events within the interval [2515, 2545]\n",
      "Chi-squared value for interval: 3.2503840245775732\n",
      "P-value for interval: 0.07140672586492913\n",
      "\n",
      "Values centered at another point:\n",
      "There are approximately -81.0 signal events within the interval [2535, 2585]\n",
      "Chi-squared value for interval: 8.465806451612902\n",
      "P-value for interval: 0.003618847709115413\n",
      "\n",
      "The p-values quickly approach the p-values seen in the last case as the gap barely widens.\n"
     ]
    }
   ],
   "source": [
    "#Part 4\n",
    "\n",
    "def deviation(window,center):  #Window is the distance between mean and upper/lower point\n",
    "    expected = 3100/100*window*2\n",
    "    global data\n",
    "    Within2 = 0\n",
    "    for i in data:\n",
    "        if i > center-window and i< center+window:\n",
    "            Within2 += 1\n",
    "            \n",
    "    Number_of_signal = Within2-expected\n",
    "    print('There are approximately',Number_of_signal,'signal events within the interval',[(center-window),(center+window)] )\n",
    "    chi,p = scipy.stats.chisquare([Within2, 3100 - Within2],[expected, 3100 - expected])\n",
    "    print('Chi-squared value for interval:',chi)\n",
    "    print('P-value for interval:',p)\n",
    "    print()\n",
    "deviation(5,2530)\n",
    "deviation(6,2530)\n",
    "deviation(7,2530)\n",
    "deviation(8,2530)\n",
    "deviation(10,2530)\n",
    "deviation(15,2530)\n",
    "print('Values centered at another point:')\n",
    "deviation(25,2560)\n",
    "print('The p-values quickly approach the p-values seen in the last case as the gap barely widens.')"
   ]
  },
  {
   "cell_type": "code",
   "execution_count": null,
   "metadata": {},
   "outputs": [],
   "source": []
  }
 ],
 "metadata": {
  "kernelspec": {
   "display_name": "Python 3",
   "language": "python",
   "name": "python3"
  },
  "language_info": {
   "codemirror_mode": {
    "name": "ipython",
    "version": 3
   },
   "file_extension": ".py",
   "mimetype": "text/x-python",
   "name": "python",
   "nbconvert_exporter": "python",
   "pygments_lexer": "ipython3",
   "version": "3.6.5"
  }
 },
 "nbformat": 4,
 "nbformat_minor": 1
}
