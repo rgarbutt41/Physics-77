{
 "cells": [
  {
   "cell_type": "markdown",
   "metadata": {},
   "source": [
    "Robert Garbutt\n",
    "WOR 101"
   ]
  },
  {
   "cell_type": "markdown",
   "metadata": {},
   "source": [
    "# Homework 1: Python basics and a little plotting"
   ]
  },
  {
   "cell_type": "markdown",
   "metadata": {},
   "source": [
    "** Submit this notebook to bCourses to receive a credit for this assignment.**\n",
    "\n",
    "Please complete this homework assignment in code cells in the iPython notebook. Include comments in your code when necessary. Enter your name in the cell at the top of the notebook, and rename the notebook [email_name]_HW01.ipynb, where [email_name] is the part of your UCB email address that precedes \"@berkeley.edu\" "
   ]
  },
  {
   "cell_type": "markdown",
   "metadata": {},
   "source": [
    "## Problem 1: Satellite Altitudes\n",
    "\n",
    "[Adapted from Newman, Exercise 2.2] A satellite is to be launched into a circular orbit around the Earth so that it orbits the planet once every $T$ seconds. The altitude $h$ above the Earth's surface that the satellite must have is $$ h = \\left( \\frac{G M T^2}{4 \\pi^2} \\right)^{1/3} - R, $$ where $G = 6.67 \\times 10^{-11}~\\text{m}^3~\\text{kg}^{-1}~\\text{s}^{-2}$ is Newton's gravitational constant, $M = 5.97 \\times 10^{24}~\\text{kg}$ is the mass of the Earth, and $R = 6371~\\text{km}$ is its radius."
   ]
  },
  {
   "cell_type": "markdown",
   "metadata": {},
   "source": [
    "**1a.** Write a program that, for a given value of $T$ (entered as a variable T in a cell), calculates and prints out the correct altitude in meters, kilometers, and miles, with one decimal place for each result.\n",
    "\n",
    "*Output for 1a*: When the code cell for this part of the problem is entered, it should specify (in the comments or the Markdown cell above) what units of $T$ are assumed. The program should print out the correct altitude in meters, kilometers, and miles, with one decimal place for each result."
   ]
  },
  {
   "cell_type": "code",
   "execution_count": 7,
   "metadata": {},
   "outputs": [
    {
     "name": "stdout",
     "output_type": "stream",
     "text": [
      "Enter desired period in seconds:1000000\n",
      "The desired height is: 310072928.2 m.\n",
      "The desired height is: 310072.9 km.\n",
      "The desired height is: 192670.325 miles.\n"
     ]
    }
   ],
   "source": [
    "from math import pi\n",
    "G = 6.67e-11                   #Gravitational Constant\n",
    "M = 5.97e24                    #Mass of Earth\n",
    "R = 6371e3                     #Radius of Earth\n",
    "T = float(input(\"Enter desired period in seconds:\"))    #Asks for value in seconds\n",
    "\n",
    "h = (G*M*T**2/4/pi)**(1/3)-R\n",
    "print(\"The desired height is:\",'%.1f'%(h),\"m.\")\n",
    "print(\"The desired height is:\",'%.1f'%(h*10**-3),\"km.\")\n",
    "print(\"The desired height is:\",'%.1f'%(h*10**-3*0.621371),\"miles.\")"
   ]
  },
  {
   "cell_type": "markdown",
   "metadata": {},
   "source": [
    "*Output for 1b and 1c:* Use code cells to carry out the desired calculations, and Markdown cells to present and discuss your results."
   ]
  },
  {
   "cell_type": "markdown",
   "metadata": {},
   "source": [
    "**1b.** Use your program to calculate the altitudes of satellites that orbit the Earth once a day (so-called \"geosynchronous\" orbit), once every 90 minutes, and once every 45 minutes. What do you conclude from the last of these calculations?"
   ]
  },
  {
   "cell_type": "code",
   "execution_count": null,
   "metadata": {},
   "outputs": [
    {
     "name": "stdout",
     "output_type": "stream",
     "text": [
      "Enter desired period in seconds:86148\n",
      "The desired height is: 55353877.0 m.\n",
      "The desired height is: 55353.9 km.\n",
      "The desired height is: 34395.3 miles.\n"
     ]
    }
   ],
   "source": [
    "from math import pi\n",
    "G = 6.67e-11                   #Gravitational Constant\n",
    "M = 5.97e24                    #Mass of Earth\n",
    "R = 6371e3                     #Radius of Earth\n",
    "T = float(input(\"Enter desired period in seconds:\"))    #Asks for period value in seconds\n",
    "\n",
    "h = (G*M*T**2/4/pi)**(1/3)-R     #Equation for required altitude depending on period.\n",
    "\n",
    "print(\"The desired height is:\",'%.1f'%(h),\"m.\")     #Command in front of 'h' truncates to the first decimal place\n",
    "print(\"The desired height is:\",'%.1f'%(h*10**-3),\"km.\")\n",
    "print(\"The desired height is:\",'%.1f'%(h*10**-3*0.621371),\"miles.\")"
   ]
  },
  {
   "cell_type": "markdown",
   "metadata": {},
   "source": [
    "For Geosynchronous: 55474.2 km.\n",
    "For 90 minutes: 3369.0 km.\n",
    "For 45 minutes: -235.2 km.   Thus the only way to have a 45 minute orbiting period is if you could orbit through the earth."
   ]
  },
  {
   "cell_type": "markdown",
   "metadata": {},
   "source": [
    "**1c.** Technically a geosynchronous satellite is one that orbits the Earth once per *sidereal day*, which is 23.93 hours, not 24 hours. Why is this? And how much difference will it make to the altitude of the satellite?"
   ]
  },
  {
   "cell_type": "markdown",
   "metadata": {},
   "source": [
    "Height for once per sidreal deal: 55353.9 km.\n",
    "The sidereal day is shorter since it involves the Earth's rotation, instead of the position of the Sun in the sky.\n",
    "The difference in height is 120.3 km."
   ]
  },
  {
   "cell_type": "markdown",
   "metadata": {},
   "source": [
    "#### Hints\n",
    "\n",
    "Be very careful of units! Unlike wolframalpha.com, python is oblivious to what units your various numbers represent. You need to carefully keep track of them to make sure that your units work out. Not converting units properly can lead to [very expensive disasters](https://en.wikipedia.org/wiki/Mars_Climate_Orbiter) or just wrong scientific results ...\n",
    "\n",
    "Remember to comment your code and use descriptive variable names so others (and future you) can understand what you're doing!"
   ]
  },
  {
   "cell_type": "markdown",
   "metadata": {},
   "source": [
    "## Problem 2: Perfect Hardboiled Eggs\n",
    "\n",
    "[Adapted from Langtangen, Exercise 1.12. You may derive the formula in Physics 112 or Physics 89] As an egg cooks, the proteins first denature and then coagulate. When the temperature exceeds a critical point, reactions begin and proceed faster as the temperature increases. In the egg white the proteins start to coagulate for temperatures above 63 C, while in the  yolk the proteins start to coagulate for temperatures above 70 C. For a soft boiled egg, the white needs to have been heated long enough to coagulate at a temperature above 63 C, but the yolk should not be heated above 70 C. For a hard boiled egg, the center of the yolk should be allowed to reach 70 C.\n",
    "\n",
    "The following formula expresses the time $t$ it takes (in seconds) for the center of the yolk to reach the temperature $T_y$ (in Celsius degrees): $$ t = \\frac{M^{2/3} c \\rho^{1/3}}{K \\pi^2 (4\\pi/3)^{2/3}} \\ln \\left[ 0.76 \\frac{T_0 - T_w}{T_y - T_w} \\right] . $$ Here, $M$, $\\rho$, $c$, and $K$ are properties of the egg:\n",
    "* $M$ is the mass,\n",
    "* $\\rho$ is the density,\n",
    "* $c$ is the specific heat capacity, and \n",
    "* $K$ is the thermal conductivity.\n",
    "\n",
    "Relevant values are\n",
    "* $M = 64~\\text{g}$ for a large egg (USA size XL: en.wikipedia.org/wiki/Chicken_egg_sizes),\n",
    "* $\\rho = 1.0378~\\text{g cm}^{-3}$,\n",
    "* $c = 3.7~\\text{J g}^{-1}\\,\\text{K}^{-1}$, and\n",
    "* $K = 5.4 \\cdot 10^{-3}~\\text{W cm}^{-1}\\,\\text{K}^{-1}$.\n",
    "\n",
    "Furthermore,\n",
    "* $T_w$ is the temperature (in C degrees) of the boiling water, and\n",
    "* $T_0$ is the original temperature (in C degrees) of the egg before being put in the water.\n",
    "\n",
    "Suppose we want our eggs hard-boiled. Implement the formula in a program, set $T_w = 100~\\text{C}$ and $T_y = 70~\\text{C}$, and compute $t$ for a large egg taken from the fridge ($T_0 = 4~\\text{C}$) and from room temperature ($T_0 = 20~\\text{C}$). Also compute the results for a small egg ($M = 42~\\text{g}$)."
   ]
  },
  {
   "cell_type": "markdown",
   "metadata": {},
   "source": [
    "*Output for 2:*\n",
    "When you run your code cell, it should produce the following text, with your numbers instead of the `TTT`, `MMM`, and `SSS` placeholders:\n",
    "\n",
    "    To hard-boil a large egg taken directly from the fridge, cook it for TTT minutes (MMM min, SSS sec).\n",
    "    To hard-boil a small egg taken directly from the fridge, cook it for TTT minutes (MMM min, SSS sec).\n",
    "    To hard-boil a large egg starting from room temperature, cook it for TTT minutes (MMM min, SSS sec).\n",
    "    To hard-boil a small egg starting from room temperature, cook it for TTT minutes (MMM min, SSS sec).\n",
    "\n",
    "The `TTT` placeholders should be values in minutes to two decimal places. The `MMM` and `SSS` placeholders should be rounded to the nearest minute/second, with no decimal places. For example,\n",
    "\n",
    "    To hard-boil a large egg taken directly from the fridge, cook it for 56.78 minutes (56 min 47 sec).\n",
    "    "
   ]
  },
  {
   "cell_type": "code",
   "execution_count": 50,
   "metadata": {},
   "outputs": [
    {
     "name": "stdout",
     "output_type": "stream",
     "text": [
      "To hard-boil a large egg taken directly from the fridge, cook it for 6.41 minutes ( 6 min 25 sec )\n",
      "To hard-boil a small egg taken directly from the fridge, cook it for 4.84 minutes ( 4 min 50 sec )\n",
      "To hard-boil a Large egg taken directly from room temperature, cook it for 5.10 minutes ( 5 min 5 sec )\n",
      "To hard-boil a small egg taken directly from room temperature, cook it for 3.85 minutes ( 3 min 50 sec )\n"
     ]
    }
   ],
   "source": [
    "import numpy as np\n",
    "\n",
    "def EggCookTime(T_initial, M_egg):\n",
    "    rho = 1.0378 #density gram/cm^3\n",
    "    c = 3.7 #Specific heat in J/g/K\n",
    "    K = 5.4*10**(-3) #Thermal conductivity in W/cm/K\n",
    "    T_w = 100 #Water temp in celsius\n",
    "    T_y = 70 #Temp of yolk in celsius\n",
    "    \n",
    "    Logterm = np.log(0.76*(T_initial-T_w)/(T_y-T_w))\n",
    "    Numerator = M_egg**(2/3)*c*rho**(1/3) \n",
    "    Denominator = K*np.pi**(2)*(4*np.pi/3)**(2/3)\n",
    "    t = Numerator*Logterm/Denominator #Actual value\n",
    "    \n",
    "    return t/60\n",
    "\n",
    "x = EggCookTime(4,64) #From fridge, large egg\n",
    "print('To hard-boil a large egg taken directly from the fridge, cook it for', '%.2f'%(x), 'minutes','(',str(x)[0],'min','%.0f'%(float('.'+str(x)[2]+str(x)[3])*60),'sec',')') \n",
    "#long string, forces two decimals, takes first number sets as min, takes two decimal numbers and multiplies by 60\n",
    "\n",
    "x = EggCookTime(4,42) #From fridge, small egg\n",
    "print('To hard-boil a small egg taken directly from the fridge, cook it for', '%.2f'%(x), 'minutes','(',str(x)[0],'min','%.0f'%(float('.'+str(x)[2]+str(x)[3])*60),'sec',')')\n",
    "#long string, forces two decimals, takes first number sets as min, takes two decimal numbers and multiplies by 60\n",
    "\n",
    "x = EggCookTime(20,64) #Room temp, Large egg\n",
    "print('To hard-boil a Large egg taken directly from room temperature, cook it for', '%.2f'%(x), 'minutes','(',str(x)[0],'min','%.0f'%(float('.'+str(x)[2]+str(x)[3])*60),'sec',')')\n",
    "#long string, forces two decimals, takes first number sets as min, takes two decimal numbers and multiplies by 60\n",
    "\n",
    "x = EggCookTime(20,42) #Room temp, small egg\n",
    "print('To hard-boil a small egg taken directly from room temperature, cook it for', '%.2f'%(x), 'minutes','(',str(x)[0],'min','%.0f'%(float('.'+str(x)[2]+str(x)[3])*60),'sec',')')\n",
    "#long string, forces two decimals, takes first number sets as min, takes two decimal numbers and multiplies by 60\n"
   ]
  },
  {
   "cell_type": "markdown",
   "metadata": {},
   "source": [
    "#### Hints\n",
    "\n",
    "Writing the entire formula in one line is difficult to type, difficult to read, difficult to debug---and you have to retype the entire calculation just to change one piece of it. Try breaking it down in smaller chunks assigned to variables, and combine those chunks to produce the final result.\n",
    "\n",
    "Beware of integer division!\n",
    "\n",
    "Remember to comment your code and use descriptive variable names so others (and future you) can understand what you're doing!"
   ]
  },
  {
   "cell_type": "markdown",
   "metadata": {},
   "source": [
    "## Problem 3: Estimating Half-Life\n",
    "\n",
    "[Adapted from Ayars, Problem 0-3] The data in file Ba137.txt (available here: https://raw.githubusercontent.com/celegante/code_chapter_0-_github/master/Ba137.txt) is actual data from a radioactive decay experiment; the first column is the number of decays $N$, the second is the time $t$ in seconds. We'd like to know the half-life $t_{1/2}$ of $^{137}\\text{Ba}$. It should follow the decay equation $$ N = N_0 e^{-\\lambda t} $$ where $\\lambda = \\frac{\\log 2}{t_{1/2}}$. Using the techniques you've learned from the lecture and workshop, load the data from the file Ba137.txt into appropriately-named variables. Experiment with different values of $N$ and $\\lambda$ and plot the resulting equation on top of the data. (Python uses `exp()` to calculate the exponential function: i.e. `y = A*exp(-L*time)` ) Don't worry about automating this process yet (unless you *really* want to!) just try adjusting things by hand until the equation matches the data pretty well. What is your best estimate for $t_{1/2}$?"
   ]
  },
  {
   "cell_type": "markdown",
   "metadata": {},
   "source": [
    "*Output for 3:*\n",
    "When you run your code cell, it should produce a well-labeled plot with both the data and your curve of best fit. It should also print a message to the terminal which says, \"My best estimate for the half life is $x$\", where $x$ is your estimate with units."
   ]
  },
  {
   "cell_type": "code",
   "execution_count": 101,
   "metadata": {},
   "outputs": [
    {
     "data": {
      "image/png": "[encoded data removed]",
      "text/plain": [
       "<Figure size 432x288 with 1 Axes>"
      ]
     },
     "metadata": {},
     "output_type": "display_data"
    },
    {
     "name": "stdout",
     "output_type": "stream",
     "text": [
      "My best estimate for the half life is 1/250 s^-1\n"
     ]
    }
   ],
   "source": [
    "import numpy as np\n",
    "import matplotlib.pyplot as plt\n",
    "value,time = np.loadtxt('Ba137.txt', unpack=True)\n",
    "\n",
    "plt.figure()\n",
    "\n",
    "N = 28550\n",
    "L = 1/250 #lambda\n",
    "y = N*np.exp(-L*time)           #Fit equation\n",
    "plt.plot(time, y )\n",
    "plt.plot(time, value, 'x')      #Plot of data\n",
    "plt.title('Geiger Counts vs. Time')     #Title of graph\n",
    "\n",
    "plt.xlabel('Time (s)')          #X axis label\n",
    "plt.ylabel('Counts')            #y axis\n",
    "\n",
    "plt.show()\n",
    "print('My best estimate for the half life is','1/250','s^-1')"
   ]
  },
  {
   "cell_type": "markdown",
   "metadata": {},
   "source": [
    "#### Hints\n",
    "\n",
    "Remember to comment your code and use descriptive variable names so others (and future you) can understand what you're doing!"
   ]
  },
  {
   "cell_type": "code",
   "execution_count": null,
   "metadata": {
    "collapsed": true
   },
   "outputs": [],
   "source": []
  }
 ],
 "metadata": {
  "kernelspec": {
   "display_name": "Python 3",
   "language": "python",
   "name": "python3"
  },
  "language_info": {
   "codemirror_mode": {
    "name": "ipython",
    "version": 3
   },
   "file_extension": ".py",
   "mimetype": "text/x-python",
   "name": "python",
   "nbconvert_exporter": "python",
   "pygments_lexer": "ipython3",
   "version": "3.6.5"
  }
 },
 "nbformat": 4,
 "nbformat_minor": 1
}
