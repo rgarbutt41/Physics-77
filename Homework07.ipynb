{
 "cells": [
  {
   "cell_type": "markdown",
   "metadata": {},
   "source": [
    "Robert Garbutt\n",
    "Section 101"
   ]
  },
  {
   "cell_type": "markdown",
   "metadata": {
    "collapsed": true
   },
   "source": [
    "# Homework 7: Numerical Differentiation, Integration, Root Finding"
   ]
  },
  {
   "cell_type": "markdown",
   "metadata": {},
   "source": [
    "##### ** Submit this notebook to bCourses to receive a credit for this assignment. **\n",
    "\n",
    "Please complete this homework assignment in code cells in the iPython notebook. Include comments in your code when necessary. Enter your name in the cell at the top of the notebook, and rename the notebook [email_name]_Home07.ipynb, where [email_name] is the part of your UCB email address that precedes \"@berkeley.edu\" "
   ]
  },
  {
   "cell_type": "markdown",
   "metadata": {},
   "source": [
    "## Problem 1: Numerical integration [Ayars 2.2]\n",
    "\n",
    "Compare results of the trapezoid integration method,  Simpson’s method, and the adaptive Gaussian quadrature method for the following integrals:\n",
    "\n",
    "1. $$\\int_0^{\\pi/2}\\cos x\\, dx $$\n",
    "1. $$\\int_1^3 \\frac{1}{x^2}\\, dx $$\n",
    "1. $$\\int_2^4 (x^2+x+1)\\, dx$$\n",
    "1. $$\\int_0^{6.9}\\cos\\left(\\frac{\\pi}{2}x^2\\right)\\, dx$$\n",
    "\n",
    "For each part, try it with more and with fewer slices to determine how many slices are required to give an ‘acceptable’ answer. (If you double the number of slices and still get the same answer, then try half as many, etc.) Parts (3) and (4) are particularly interesting in this regard. In your submitted work, describe roughly how many points were required, and explain."
   ]
  },
  {
   "cell_type": "code",
   "execution_count": 72,
   "metadata": {},
   "outputs": [
    {
     "name": "stdout",
     "output_type": "stream",
     "text": [
      "For N = 16 trials\n",
      "Trapezoid method result: 0.9990859806718272\n",
      "Simpson method result: 0.9999503581135661\n",
      "Quadrature result: 0.9999999999999999\n",
      "Quadrature error: 1.1102230246251564e-14\n",
      "\n",
      "For the Trapezoid method it takes aound 16 trials to approach the expected value of 1 to the third decimal place, since the trapezoid method has to create a good approximation of a relatively smooth curve using jagged fitting curves.\n",
      "\n",
      "For the simpson method, it takes only 7 trials before it approachs the correct answer to the third decimal place. Using parabolas would obviously take less trials since they approximate sinuisoids much better than jagged trapezoids.\n"
     ]
    }
   ],
   "source": [
    "#Integral 1\n",
    "import numpy as np\n",
    "import scipy.integrate\n",
    "\n",
    "def f(x):\n",
    "    return np.cos(x)\n",
    "\n",
    "\n",
    "def integration_trials(f,N,x_i,x_f):\n",
    "    x = np.linspace(x_i,x_f,N)\n",
    "    y = f(x)\n",
    "    sp_result = scipy.integrate.quad(f, x_i, x_f)\n",
    "    integral_trapz = scipy.integrate.trapz(y, x)\n",
    "    integral_simps = scipy.integrate.simps(y, x)\n",
    "    \n",
    "    print('For N =',N,'trials')\n",
    "    print('Trapezoid method result:',integral_trapz)\n",
    "    print('Simpson method result:',integral_simps)\n",
    "    print('Quadrature result:',sp_result[0])\n",
    "    print('Quadrature error:',sp_result[1])\n",
    "    print()\n",
    "\n",
    "integration_trials(f,16,0,np.pi/2)\n",
    "print('For the Trapezoid method it takes aound 16 trials to approach the expected value of 1 to the third decimal place, since the trapezoid method has to create a good approximation of a relatively smooth curve using jagged fitting curves.')\n",
    "print()\n",
    "print('For the simpson method, it takes only 7 trials before it approachs the correct answer to the third decimal place. Using parabolas would obviously take less trials since they approximate sinuisoids much better than jagged trapezoids.')"
   ]
  },
  {
   "cell_type": "code",
   "execution_count": 73,
   "metadata": {},
   "outputs": [
    {
     "name": "stdout",
     "output_type": "stream",
     "text": [
      "For N = 45 trials\n",
      "Trapezoid method result: 0.6669981239835152\n",
      "Simpson method result: 0.666667229354294\n",
      "Quadrature result: 0.6666666666666667\n",
      "Quadrature error: 2.9064751454420587e-12\n",
      "\n",
      "Trapezoid method requires 45 trials to have thousandeth order precision. The higher trials probably pertains to the slow decay of the function which would require exponentially more trapezoid to approximate correctly\n",
      "\n",
      "Simpson method takes only 11 trials to have thousandeth order precision. Same explanation as above for the trapezoid\n"
     ]
    }
   ],
   "source": [
    "#Second integral\n",
    "def g(x):\n",
    "    return 1/x**2\n",
    "integration_trials(g,45,1,3)\n",
    "print('Trapezoid method requires 45 trials to have thousandeth order precision. The higher trials probably pertains to the slow decay of the function which would require exponentially more trapezoid to approximate correctly')\n",
    "print()\n",
    "print('Simpson method takes only 11 trials to have thousandeth order precision. Same explanation as above for the trapezoid.')"
   ]
  },
  {
   "cell_type": "code",
   "execution_count": 91,
   "metadata": {},
   "outputs": [
    {
     "name": "stdout",
     "output_type": "stream",
     "text": [
      "For N = 70 trials\n",
      "Trapezoid method result: 26.666946719876776\n",
      "Simpson method result: 26.66667072540884\n",
      "Quadrature result: 26.666666666666664\n",
      "Quadrature error: 2.9605947323337506e-13\n",
      "\n",
      "The trapezoid method requires 70 trials to have thousandth order precision, again the trapezoid method is not very efficient at approximating high curvature functions.\n",
      "\n",
      "The Simpson method only requires 3 trials to have thousandth order precision and the accuracy decreases at higher trial       numbers. Since the function is in fact a parabolic curve, the fit should only require a few trials to approximate using a parabola.Higher number of parabolas yields worse fitting. \n"
     ]
    }
   ],
   "source": [
    "#Function 3\n",
    "def Q(x):\n",
    "    return x**2+x+1\n",
    "integration_trials(Q,70,2,4)\n",
    "print('The trapezoid method requires 70 trials to have thousandth order precision, again the trapezoid method is not very efficient at approximating high curvature functions.')\n",
    "print()\n",
    "print('The Simpson method only requires 3 trials to have thousandth order precision and the accuracy decreases at higher trial       numbers. Since the function is in fact a parabolic curve, the fit should only require a few trials to approximate using a parabola.Higher number of parabolas yields worse fitting. ')"
   ]
  },
  {
   "cell_type": "code",
   "execution_count": 145,
   "metadata": {},
   "outputs": [
    {
     "name": "stdout",
     "output_type": "stream",
     "text": [
      "For N = 50 trials\n",
      "Trapezoid method result: 0.49815566990687454\n",
      "Simpson method result: 0.478208310289551\n",
      "Quadrature result: 0.47322531435151366\n",
      "Quadrature error: 1.9407006950934752e-10\n",
      "\n",
      "The trapezoid method takes 17 trials to approximate to hundreth order.\n",
      "\n",
      "The Simpson method takes 50 trials to approximate to hundreth order.\n",
      "\n",
      "The integration values of the approximations vary radically between different trial numbers, most likely due to the rapid oscillations of the function. In this case, the trapezoid method approximates the curve earlier just by coincidence since the technique coincidentally used a more stable point on the graph.\n"
     ]
    }
   ],
   "source": [
    "#Function 4\n",
    "def F(x):\n",
    "    return np.cos(np.pi*x**2/2)\n",
    "integration_trials(F,50,0,6.9)\n",
    "print('The trapezoid method takes 17 trials to approximate to hundreth order.')\n",
    "print()\n",
    "print('The Simpson method takes 50 trials to approximate to hundreth order.')\n",
    "print()\n",
    "print('The integration values of the approximations vary radically between different trial numbers, most likely due to the rapid oscillations of the function. In this case, the trapezoid method approximates the curve earlier just by coincidence since the technique coincidentally used a more stable point on the graph.')"
   ]
  },
  {
   "cell_type": "markdown",
   "metadata": {},
   "source": [
    "### Problem 2: Numerical differentiation [Ayars 2.8]\n",
    "\n",
    "Write a function that, given a list of abscissa values $x_i$ and function values $f_i(x_i)$, returns a list of values of the second derivative $f''(x_i)$ of the function. Test your function by giving it a list of known function values for $\\sin(x)$ and making a graph of the differences between the output of the function and $−\\sin(x)$. Compare your output to Python's *scipy.misc.derivative*\n"
   ]
  },
  {
   "cell_type": "code",
   "execution_count": 218,
   "metadata": {},
   "outputs": [
    {
     "data": {
      "image/png": "[encoded data removed]",
      "text/plain": [
       "<Figure size 432x288 with 1 Axes>"
      ]
     },
     "metadata": {
      "needs_background": "light"
     },
     "output_type": "display_data"
    },
    {
     "data": {
      "image/png": "[encoded data removed]",
      "text/plain": [
       "<Figure size 432x288 with 1 Axes>"
      ]
     },
     "metadata": {
      "needs_background": "light"
     },
     "output_type": "display_data"
    },
    {
     "name": "stdout",
     "output_type": "stream",
     "text": [
      "Both of the graphs look incredibly similar.\n"
     ]
    }
   ],
   "source": [
    "from scipy.misc import derivative\n",
    "import matplotlib.pyplot as plt\n",
    "def centered_dy(y, x): #Derivative calculator\n",
    "    dyc = [0.0]*len(x)\n",
    "    dyc[0] = (y[0] - y[1])/(x[0] - x[1])\n",
    "    for i in range(1,len(y)-1):\n",
    "        dyc[i] = (y[i+1] - y[i-1])/(x[i+1]-x[i-1])\n",
    "    dyc[-1] = (y[-1] - y[-2])/(x[-1] - x[-2])\n",
    "\n",
    "    return dyc\n",
    "\n",
    "x = np.linspace(0,2*np.pi,num=100)\n",
    "\n",
    "b = np.zeros((100,2))\n",
    "\n",
    "\n",
    "for i in range(100):\n",
    "    b[i,1]= np.sin(x[i])\n",
    "    b[i,0]= x[i]\n",
    "    \n",
    "def second_derivative(M):\n",
    "    x = centered_dy(centered_dy(M[:,1],M[:,0]),M[:,0])\n",
    "    return x\n",
    "\n",
    "y = second_derivative(b)\n",
    "\n",
    "difference = []\n",
    "for i in range(100):\n",
    "    difference.append(y[i]+b[i,1])\n",
    "    \n",
    "    \n",
    "plt.figure()\n",
    "plt.scatter(x,difference)\n",
    "plt.show()\n",
    "\n",
    "dy = derivative(func=np.sin, x0=x, dx=1e-6, n=2, order=3)\n",
    "\n",
    "difference2 = []\n",
    "for i in range(100):\n",
    "    difference2.append(y[i]-dy[i])\n",
    "plt.figure()\n",
    "plt.scatter(x,difference2)\n",
    "plt.show()\n",
    "print('Both of the graphs look incredibly similar.')"
   ]
  },
  {
   "cell_type": "markdown",
   "metadata": {
    "collapsed": true
   },
   "source": [
    "## Problem 3: Root Finding [Newman 6.16]\n",
    "\n",
    "There is a magical point between the Earth and the Moon, called the\n",
    "$L_1$ Lagrange point, at which a satellite will orbit the Earth in perfect\n",
    "synchrony with the Moon, staying always in between the two.  This works\n",
    "because the inward pull of the Earth and the outward pull of the Moon\n",
    "combine to create exactly the needed centripetal force that keeps the\n",
    "satellite in its orbit. See Fig. 6.16 on p.274 of Newman. \n",
    "\n",
    "You may derive in 5A (or look up in a textbook) that assuming circular orbits, and assuming that the Earth is much more massive than either the Moon or the satellite, that the distance $r$ from the center of the Earth to the $L_1$ point satisfies\n",
    "$$\n",
    "{GM\\over r^2} - {Gm\\over(R-r)^2} = \\omega^2 r\n",
    "$$\n",
    "where $M$ and $m$ are the Earth and Moon masses, $G$ is Newton's\n",
    "gravitational constant, and $\\omega$ is the angular velocity of both the\n",
    "Moon and the satellite.\n",
    "\n",
    "The equation above is a fifth-order polynomial equation in $r$ (also called a quintic equation). Such equations cannot be solved exactly in closed form, but it's straightforward to solve them numerically.  Write a program to solve for the distance $r$ from the Earth to the $L_1$ point.  Compute a solution accurate to at least four significant figures.\n",
    "\n",
    "The values of the various parameters are:\n",
    "\n",
    "G = 6.674e-11 m^3 kg^-1 s^-2<br>\n",
    "M = 5.974e24 kg<br>\n",
    "m = 7.348e22 kg<br>\n",
    "R = 3.844e8 m<br>\n",
    "$\\omega$ = 2.662e-6 s^-1.<br>\n",
    "\n",
    "You will also need to choose a suitable starting value for $r$, or two\n",
    "starting values if you use the secant method.\n"
   ]
  },
  {
   "cell_type": "code",
   "execution_count": 236,
   "metadata": {},
   "outputs": [
    {
     "data": {
      "image/png": "[encoded data removed]",
      "text/plain": [
       "<Figure size 432x288 with 1 Axes>"
      ]
     },
     "metadata": {
      "needs_background": "light"
     },
     "output_type": "display_data"
    },
    {
     "name": "stdout",
     "output_type": "stream",
     "text": [
      "The Lagrange point is at a distance of  [3.26045072e+08] m\n"
     ]
    }
   ],
   "source": [
    "from scipy.optimize import fsolve\n",
    "\n",
    "G = 6.674e-11\n",
    "M = 5.974e24\n",
    "m = 7.348e22\n",
    "R = 3.844e8\n",
    "omega = 2.662e-6\n",
    "\n",
    "def Lagrange_equation(r):\n",
    "    return G*M/r**2-G*m/(R-r)**2-omega**2*r\n",
    "\n",
    "x = np.linspace(1e8,5e8)\n",
    "plt.figure()\n",
    "plt.plot(x,Lagrange_equation(x))\n",
    "plt.grid(True)\n",
    "plt.show()\n",
    "x = fsolve(Lagrange_equation, 3e8) \n",
    "print('The Lagrange point is at a distance of ',x,'m')"
   ]
  },
  {
   "cell_type": "code",
   "execution_count": null,
   "metadata": {},
   "outputs": [],
   "source": []
  }
 ],
 "metadata": {
  "kernelspec": {
   "display_name": "Python 3",
   "language": "python",
   "name": "python3"
  },
  "language_info": {
   "codemirror_mode": {
    "name": "ipython",
    "version": 3
   },
   "file_extension": ".py",
   "mimetype": "text/x-python",
   "name": "python",
   "nbconvert_exporter": "python",
   "pygments_lexer": "ipython3",
   "version": "3.6.5"
  }
 },
 "nbformat": 4,
 "nbformat_minor": 1
}
